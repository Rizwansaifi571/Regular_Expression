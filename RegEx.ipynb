{
 "cells": [
  {
   "cell_type": "markdown",
   "metadata": {},
   "source": [
    "# __Python RegEx.__\n",
    "Date : 2, Jan, 2024."
   ]
  },
  {
   "cell_type": "markdown",
   "metadata": {},
   "source": [
    "A RegEx, or Regular Expression, is a sequence of characters that forms a search pattern.\n",
    "\n",
    "RegEx can be used to check if a string contains the specified search pattern."
   ]
  },
  {
   "cell_type": "markdown",
   "metadata": {},
   "source": [
    "-> __RegEx in Python.__\n",
    "\n",
    "When you have imported the re module, you can start using regular expressions:"
   ]
  },
  {
   "cell_type": "markdown",
   "metadata": {},
   "source": [
    "Example : Search the string to see if it starts with \"The\" and ends with \"Spain\":"
   ]
  },
  {
   "cell_type": "code",
   "execution_count": 2,
   "metadata": {},
   "outputs": [],
   "source": [
    "import re"
   ]
  },
  {
   "cell_type": "code",
   "execution_count": 7,
   "metadata": {},
   "outputs": [
    {
     "name": "stdout",
     "output_type": "stream",
     "text": [
      "Matched!\n"
     ]
    }
   ],
   "source": [
    "txt=\"The rain in Spain\"\n",
    "x=re.search(\"^The.*Spain$\", txt)\n",
    "if x:   # Means x in not None value.\n",
    "    print('Matched!')\n",
    "else:\n",
    "    print(\"LOL!\")"
   ]
  },
  {
   "cell_type": "markdown",
   "metadata": {},
   "source": [
    "* ^ : Anchors the search at the beginning of the string.\n",
    "* .* : Matches any character (except for a newline) zero or more times.   (# b/w start and end.)\n",
    "* $ : Anchors the search at the end of the string."
   ]
  },
  {
   "cell_type": "markdown",
   "metadata": {},
   "source": [
    "-> __RegEx Functions.__\n",
    "* __findall__ --> Returns a list containing all matches.\n",
    "\n",
    "* __search__ --> Returns a Match object if there is a match anywhere in the string.\n",
    "\n",
    "* __split__  --> Returns a list where the string has been split at each match.\n",
    "\n",
    "* __sub__  --> Replaces one or many matches with a string."
   ]
  },
  {
   "cell_type": "markdown",
   "metadata": {},
   "source": [
    "-> __The findall() Function.__\n",
    "\n",
    "The findall() function returns a list containing all matches."
   ]
  },
  {
   "cell_type": "markdown",
   "metadata": {},
   "source": [
    "Example : Print a list of all matches:"
   ]
  },
  {
   "cell_type": "code",
   "execution_count": 9,
   "metadata": {},
   "outputs": [
    {
     "name": "stdout",
     "output_type": "stream",
     "text": [
      "['ai', 'ai']\n"
     ]
    }
   ],
   "source": [
    "txt=\"The rain in Spain\"\n",
    "x=re.findall('ai', txt)  # return a list containing every occurance of 'ai'.\n",
    "print(x)"
   ]
  },
  {
   "cell_type": "markdown",
   "metadata": {},
   "source": [
    "* The list contains the matches in the order they are found.\n",
    "\n",
    "* If no matches are found, an empty list is returned:"
   ]
  },
  {
   "cell_type": "markdown",
   "metadata": {},
   "source": [
    "-> __The search() Function.__\n",
    "* The search() function searches the string for a match, and returns a Match object if there is a match.\n",
    "\n",
    "* If there is more than one match, only the first occurrence of the match will be returned:"
   ]
  },
  {
   "cell_type": "markdown",
   "metadata": {},
   "source": [
    "Example : Search for the first white-space character in the string:"
   ]
  },
  {
   "cell_type": "code",
   "execution_count": 13,
   "metadata": {},
   "outputs": [
    {
     "name": "stdout",
     "output_type": "stream",
     "text": [
      "The first white-space character is located in position: 3\n"
     ]
    }
   ],
   "source": [
    "txt='The rain in Spain'\n",
    "x=re.search('\\s', txt)\n",
    "print('The first white-space character is located in position:', x.start())"
   ]
  },
  {
   "cell_type": "markdown",
   "metadata": {},
   "source": [
    "* If no matches are found, the value None is returned:"
   ]
  },
  {
   "cell_type": "markdown",
   "metadata": {},
   "source": [
    "-> __The split() Function.__  \n",
    "     \n",
    "The split() function returns a list where the string has been split at each match:"
   ]
  },
  {
   "cell_type": "markdown",
   "metadata": {},
   "source": [
    "Example : Split at each white-space character:"
   ]
  },
  {
   "cell_type": "code",
   "execution_count": 14,
   "metadata": {},
   "outputs": [
    {
     "name": "stdout",
     "output_type": "stream",
     "text": [
      "['The', 'rain', 'in', 'Spain']\n"
     ]
    }
   ],
   "source": [
    "txt='The rain in Spain'\n",
    "x=re.split('\\s', txt)\n",
    "print(x)"
   ]
  },
  {
   "cell_type": "markdown",
   "metadata": {},
   "source": [
    "* You can control the number of occurrences by specifying the maxsplit parameter:"
   ]
  },
  {
   "cell_type": "markdown",
   "metadata": {},
   "source": [
    "Example : Split the string only at the first occurrence:"
   ]
  },
  {
   "cell_type": "code",
   "execution_count": 15,
   "metadata": {},
   "outputs": [
    {
     "name": "stdout",
     "output_type": "stream",
     "text": [
      "['The', 'rain in Spain']\n"
     ]
    }
   ],
   "source": [
    "txt='The rain in Spain'\n",
    "x=re.split('\\s', txt, 1)\n",
    "print(x)"
   ]
  },
  {
   "cell_type": "markdown",
   "metadata": {},
   "source": [
    "-> __The sub() Function.__  \n",
    " \n",
    "The sub() function replaces the matches with the text of your choice:"
   ]
  },
  {
   "cell_type": "markdown",
   "metadata": {},
   "source": [
    "Example : Replace every white-space character with the number 9:"
   ]
  }
 ],
 "metadata": {
  "kernelspec": {
   "display_name": "Python 3",
   "language": "python",
   "name": "python3"
  },
  "language_info": {
   "codemirror_mode": {
    "name": "ipython",
    "version": 3
   },
   "file_extension": ".py",
   "mimetype": "text/x-python",
   "name": "python",
   "nbconvert_exporter": "python",
   "pygments_lexer": "ipython3",
   "version": "3.11.4"
  }
 },
 "nbformat": 4,
 "nbformat_minor": 2
}
